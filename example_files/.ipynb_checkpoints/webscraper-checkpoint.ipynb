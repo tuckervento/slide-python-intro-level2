{
 "cells": [
  {
   "cell_type": "code",
   "execution_count": 1,
   "metadata": {},
   "outputs": [],
   "source": [
    "import requests\n",
    "from bs4 import BeautifulSoup\n",
    "from datetime import datetime"
   ]
  },
  {
   "cell_type": "code",
   "execution_count": 2,
   "metadata": {},
   "outputs": [],
   "source": [
    "# Proxy dict of the form:\n",
    "# proxy_dict = {\n",
    "#     'http': 'http://myproxy:12345',\n",
    "#     'https': 'https://myproxy:12345'\n",
    "# }\n",
    "proxy_dict = {\n",
    "  'http': '',\n",
    "  'https': ''\n",
    "} # Set proxies here if needed!\n",
    "\n",
    "# The URL you want to scrape\n",
    "url = \"https://www.marketwatch.com/investing/stock/aapl\""
   ]
  },
  {
   "cell_type": "code",
   "execution_count": 3,
   "metadata": {},
   "outputs": [],
   "source": [
    "resp = requests.get(url, stream=True, proxies=proxy_dict)\n",
    "if resp.status_code != 200: # 200 means success\n",
    "    print(\"ERROR! Could not get data from URL. Response: {}\".format(resp))\n",
    "    exit\n",
    "else:\n",
    "    raw_html = resp.content"
   ]
  },
  {
   "cell_type": "code",
   "execution_count": 4,
   "metadata": {},
   "outputs": [],
   "source": [
    "soup = BeautifulSoup(raw_html, 'html.parser')"
   ]
  },
  {
   "cell_type": "code",
   "execution_count": 5,
   "metadata": {},
   "outputs": [],
   "source": [
    "element_with_price = soup.select('bg-quote[field=Last]')[0]"
   ]
  },
  {
   "cell_type": "code",
   "execution_count": 6,
   "metadata": {},
   "outputs": [],
   "source": [
    "price_text = element_with_price.get_text()"
   ]
  },
  {
   "cell_type": "code",
   "execution_count": 7,
   "metadata": {},
   "outputs": [
    {
     "data": {
      "text/plain": [
       "datetime.datetime(2019, 1, 30, 23, 48, 4, 931341)"
      ]
     },
     "execution_count": 7,
     "metadata": {},
     "output_type": "execute_result"
    }
   ],
   "source": [
    "from datetime import datetime\n",
    "datetime.now()"
   ]
  },
  {
   "cell_type": "code",
   "execution_count": 8,
   "metadata": {},
   "outputs": [
    {
     "name": "stdout",
     "output_type": "stream",
     "text": [
      "The Apple Share price at 2019-01-30 23:48:04.950346 was 165.65$\n"
     ]
    }
   ],
   "source": [
    "print(\"The Apple Share price at {} was {}$\".format(datetime.now(), price_text))\n"
   ]
  }
 ],
 "metadata": {
  "kernelspec": {
   "display_name": "Python 3",
   "language": "python",
   "name": "python3"
  },
  "language_info": {
   "codemirror_mode": {
    "name": "ipython",
    "version": 3
   },
   "file_extension": ".py",
   "mimetype": "text/x-python",
   "name": "python",
   "nbconvert_exporter": "python",
   "pygments_lexer": "ipython3",
   "version": "3.7.1"
  }
 },
 "nbformat": 4,
 "nbformat_minor": 2
}
